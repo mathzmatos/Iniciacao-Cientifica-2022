{
  "cells": [
    {
      "cell_type": "markdown",
      "metadata": {
        "id": "view-in-github",
        "colab_type": "text"
      },
      "source": [
        "<a href=\"https://colab.research.google.com/github/mathzmatos/Iniciacao-Cientifica-2022/blob/master/Inicia%C3%A7%C3%A3o_Cientifica_Gasolina_e_Dolar.ipynb\" target=\"_parent\"><img src=\"https://colab.research.google.com/assets/colab-badge.svg\" alt=\"Open In Colab\"/></a>"
      ]
    },
    {
      "cell_type": "markdown",
      "metadata": {
        "id": "JOXAFqxsM4xC"
      },
      "source": [
        "# Iniciação Científica sobre Gasolina e Dolar.\n",
        "Matheus Matos\n",
        "https://github.com/mathzmatos"
      ]
    },
    {
      "cell_type": "markdown",
      "metadata": {
        "id": "Iu-wKs0ihwEG"
      },
      "source": [
        "IMPORTAÇÃO DAS BIBLIOTECAS"
      ]
    },
    {
      "cell_type": "code",
      "execution_count": 1,
      "metadata": {
        "colab": {
          "base_uri": "https://localhost:8080/"
        },
        "id": "bJw0-S4jeaTY",
        "outputId": "cfdcaf07-73af-45ff-dc9c-f644a7ed5fc0"
      },
      "outputs": [
        {
          "output_type": "stream",
          "name": "stdout",
          "text": [
            "Looking in indexes: https://pypi.org/simple, https://us-python.pkg.dev/colab-wheels/public/simple/\n",
            "Requirement already satisfied: plotly in /usr/local/lib/python3.7/dist-packages (5.5.0)\n",
            "Collecting plotly\n",
            "  Downloading plotly-5.10.0-py2.py3-none-any.whl (15.2 MB)\n",
            "\u001b[K     |████████████████████████████████| 15.2 MB 199 kB/s \n",
            "\u001b[?25hRequirement already satisfied: tenacity>=6.2.0 in /usr/local/lib/python3.7/dist-packages (from plotly) (8.1.0)\n",
            "Installing collected packages: plotly\n",
            "  Attempting uninstall: plotly\n",
            "    Found existing installation: plotly 5.5.0\n",
            "    Uninstalling plotly-5.5.0:\n",
            "      Successfully uninstalled plotly-5.5.0\n",
            "Successfully installed plotly-5.10.0\n"
          ]
        }
      ],
      "source": [
        "!pip install plotly --upgrade"
      ]
    },
    {
      "cell_type": "code",
      "execution_count": 2,
      "metadata": {
        "id": "y5U-KC-Yeff0"
      },
      "outputs": [],
      "source": [
        "!pip -q install yellowbrick"
      ]
    },
    {
      "cell_type": "code",
      "execution_count": 3,
      "metadata": {
        "id": "D4Mbb5pneip_"
      },
      "outputs": [],
      "source": [
        "import pandas as pd\n",
        "import numpy as np\n",
        "import seaborn as sns\n",
        "import matplotlib.pyplot as plt\n",
        "import plotly.express as px"
      ]
    },
    {
      "cell_type": "code",
      "execution_count": 4,
      "metadata": {
        "id": "AWDRyRg6HFAK"
      },
      "outputs": [],
      "source": [
        "from sklearn.preprocessing import LabelEncoder, StandardScaler, MinMaxScaler\n",
        "from collections import Counter\n",
        "from sklearn.model_selection import train_test_split\n",
        "from sklearn.linear_model import LogisticRegression\n",
        "from sklearn.ensemble import RandomForestClassifier\n",
        "from sklearn.metrics import accuracy_score, classification_report, confusion_matrix\n",
        "from sklearn.metrics import precision_score,recall_score, f1_score\n",
        "from imblearn.over_sampling import SMOTE\n"
      ]
    },
    {
      "cell_type": "code",
      "execution_count": 5,
      "metadata": {
        "colab": {
          "base_uri": "https://localhost:8080/"
        },
        "id": "NzfERDTWet2S",
        "outputId": "251beee0-76aa-4b03-fbb6-73cc69cdbb9d"
      },
      "outputs": [
        {
          "output_type": "stream",
          "name": "stdout",
          "text": [
            "Drive already mounted at /content/drive; to attempt to forcibly remount, call drive.mount(\"/content/drive\", force_remount=True).\n"
          ]
        }
      ],
      "source": [
        "from google.colab import drive \n",
        "drive.mount('/content/drive')"
      ]
    },
    {
      "cell_type": "code",
      "execution_count": 6,
      "metadata": {
        "id": "YP6fbZ4qe0AE"
      },
      "outputs": [],
      "source": [
        "dadosGasDolar = pd.read_csv('/content/dados_gas_dolar.csv')"
      ]
    },
    {
      "cell_type": "code",
      "execution_count": 7,
      "metadata": {
        "colab": {
          "base_uri": "https://localhost:8080/",
          "height": 424
        },
        "id": "I2oIQXFrI7e2",
        "outputId": "76bc7c81-45c8-4976-a95f-291e55ea5aab"
      },
      "outputs": [
        {
          "output_type": "execute_result",
          "data": {
            "text/plain": [
              "     Ano        Mes  Gasolina_PrecoMedio Gasolina_DesvioPadrao Gasolina_Min  \\\n",
              "0   2017       Maio                3.617                 0.252         2.96   \n",
              "1   2017      Junho                3.548                 0.269         2.88   \n",
              "2   2017      Julho                3.553                 0.304        2.799   \n",
              "3   2017     Agosto                3.781                 0.265        2.999   \n",
              "4   2017     Agosto                3.781                 0.265        2.999   \n",
              "..   ...        ...                  ...                   ...          ...   \n",
              "59  2022    Janeiro                6.635                 0.368        5.489   \n",
              "60  2022  Fevereiro                6.600                 0.383        5.579   \n",
              "61  2022      Marco                7.012                 0.505         5.19   \n",
              "62  2022      Abril                7.245                 0.407        6.099   \n",
              "63  2022       Maio                7.297                 0.426        6.199   \n",
              "\n",
              "   Gasolina_Max  Valor_Dolar  \n",
              "0         4.999        3.126  \n",
              "1         4.799        3.101  \n",
              "2          4.95        3.283  \n",
              "3           5.1        3.189  \n",
              "4           5.1        3.189  \n",
              "..          ...          ...  \n",
              "59        8.029        5.712  \n",
              "60        7.999        5.534  \n",
              "61        8.949        5.188  \n",
              "62        8.599        5.131  \n",
              "63         8.99        4.715  \n",
              "\n",
              "[64 rows x 7 columns]"
            ],
            "text/html": [
              "\n",
              "  <div id=\"df-4e1ee633-325a-4475-b89e-d23ab47b01ca\">\n",
              "    <div class=\"colab-df-container\">\n",
              "      <div>\n",
              "<style scoped>\n",
              "    .dataframe tbody tr th:only-of-type {\n",
              "        vertical-align: middle;\n",
              "    }\n",
              "\n",
              "    .dataframe tbody tr th {\n",
              "        vertical-align: top;\n",
              "    }\n",
              "\n",
              "    .dataframe thead th {\n",
              "        text-align: right;\n",
              "    }\n",
              "</style>\n",
              "<table border=\"1\" class=\"dataframe\">\n",
              "  <thead>\n",
              "    <tr style=\"text-align: right;\">\n",
              "      <th></th>\n",
              "      <th>Ano</th>\n",
              "      <th>Mes</th>\n",
              "      <th>Gasolina_PrecoMedio</th>\n",
              "      <th>Gasolina_DesvioPadrao</th>\n",
              "      <th>Gasolina_Min</th>\n",
              "      <th>Gasolina_Max</th>\n",
              "      <th>Valor_Dolar</th>\n",
              "    </tr>\n",
              "  </thead>\n",
              "  <tbody>\n",
              "    <tr>\n",
              "      <th>0</th>\n",
              "      <td>2017</td>\n",
              "      <td>Maio</td>\n",
              "      <td>3.617</td>\n",
              "      <td>0.252</td>\n",
              "      <td>2.96</td>\n",
              "      <td>4.999</td>\n",
              "      <td>3.126</td>\n",
              "    </tr>\n",
              "    <tr>\n",
              "      <th>1</th>\n",
              "      <td>2017</td>\n",
              "      <td>Junho</td>\n",
              "      <td>3.548</td>\n",
              "      <td>0.269</td>\n",
              "      <td>2.88</td>\n",
              "      <td>4.799</td>\n",
              "      <td>3.101</td>\n",
              "    </tr>\n",
              "    <tr>\n",
              "      <th>2</th>\n",
              "      <td>2017</td>\n",
              "      <td>Julho</td>\n",
              "      <td>3.553</td>\n",
              "      <td>0.304</td>\n",
              "      <td>2.799</td>\n",
              "      <td>4.95</td>\n",
              "      <td>3.283</td>\n",
              "    </tr>\n",
              "    <tr>\n",
              "      <th>3</th>\n",
              "      <td>2017</td>\n",
              "      <td>Agosto</td>\n",
              "      <td>3.781</td>\n",
              "      <td>0.265</td>\n",
              "      <td>2.999</td>\n",
              "      <td>5.1</td>\n",
              "      <td>3.189</td>\n",
              "    </tr>\n",
              "    <tr>\n",
              "      <th>4</th>\n",
              "      <td>2017</td>\n",
              "      <td>Agosto</td>\n",
              "      <td>3.781</td>\n",
              "      <td>0.265</td>\n",
              "      <td>2.999</td>\n",
              "      <td>5.1</td>\n",
              "      <td>3.189</td>\n",
              "    </tr>\n",
              "    <tr>\n",
              "      <th>...</th>\n",
              "      <td>...</td>\n",
              "      <td>...</td>\n",
              "      <td>...</td>\n",
              "      <td>...</td>\n",
              "      <td>...</td>\n",
              "      <td>...</td>\n",
              "      <td>...</td>\n",
              "    </tr>\n",
              "    <tr>\n",
              "      <th>59</th>\n",
              "      <td>2022</td>\n",
              "      <td>Janeiro</td>\n",
              "      <td>6.635</td>\n",
              "      <td>0.368</td>\n",
              "      <td>5.489</td>\n",
              "      <td>8.029</td>\n",
              "      <td>5.712</td>\n",
              "    </tr>\n",
              "    <tr>\n",
              "      <th>60</th>\n",
              "      <td>2022</td>\n",
              "      <td>Fevereiro</td>\n",
              "      <td>6.600</td>\n",
              "      <td>0.383</td>\n",
              "      <td>5.579</td>\n",
              "      <td>7.999</td>\n",
              "      <td>5.534</td>\n",
              "    </tr>\n",
              "    <tr>\n",
              "      <th>61</th>\n",
              "      <td>2022</td>\n",
              "      <td>Marco</td>\n",
              "      <td>7.012</td>\n",
              "      <td>0.505</td>\n",
              "      <td>5.19</td>\n",
              "      <td>8.949</td>\n",
              "      <td>5.188</td>\n",
              "    </tr>\n",
              "    <tr>\n",
              "      <th>62</th>\n",
              "      <td>2022</td>\n",
              "      <td>Abril</td>\n",
              "      <td>7.245</td>\n",
              "      <td>0.407</td>\n",
              "      <td>6.099</td>\n",
              "      <td>8.599</td>\n",
              "      <td>5.131</td>\n",
              "    </tr>\n",
              "    <tr>\n",
              "      <th>63</th>\n",
              "      <td>2022</td>\n",
              "      <td>Maio</td>\n",
              "      <td>7.297</td>\n",
              "      <td>0.426</td>\n",
              "      <td>6.199</td>\n",
              "      <td>8.99</td>\n",
              "      <td>4.715</td>\n",
              "    </tr>\n",
              "  </tbody>\n",
              "</table>\n",
              "<p>64 rows × 7 columns</p>\n",
              "</div>\n",
              "      <button class=\"colab-df-convert\" onclick=\"convertToInteractive('df-4e1ee633-325a-4475-b89e-d23ab47b01ca')\"\n",
              "              title=\"Convert this dataframe to an interactive table.\"\n",
              "              style=\"display:none;\">\n",
              "        \n",
              "  <svg xmlns=\"http://www.w3.org/2000/svg\" height=\"24px\"viewBox=\"0 0 24 24\"\n",
              "       width=\"24px\">\n",
              "    <path d=\"M0 0h24v24H0V0z\" fill=\"none\"/>\n",
              "    <path d=\"M18.56 5.44l.94 2.06.94-2.06 2.06-.94-2.06-.94-.94-2.06-.94 2.06-2.06.94zm-11 1L8.5 8.5l.94-2.06 2.06-.94-2.06-.94L8.5 2.5l-.94 2.06-2.06.94zm10 10l.94 2.06.94-2.06 2.06-.94-2.06-.94-.94-2.06-.94 2.06-2.06.94z\"/><path d=\"M17.41 7.96l-1.37-1.37c-.4-.4-.92-.59-1.43-.59-.52 0-1.04.2-1.43.59L10.3 9.45l-7.72 7.72c-.78.78-.78 2.05 0 2.83L4 21.41c.39.39.9.59 1.41.59.51 0 1.02-.2 1.41-.59l7.78-7.78 2.81-2.81c.8-.78.8-2.07 0-2.86zM5.41 20L4 18.59l7.72-7.72 1.47 1.35L5.41 20z\"/>\n",
              "  </svg>\n",
              "      </button>\n",
              "      \n",
              "  <style>\n",
              "    .colab-df-container {\n",
              "      display:flex;\n",
              "      flex-wrap:wrap;\n",
              "      gap: 12px;\n",
              "    }\n",
              "\n",
              "    .colab-df-convert {\n",
              "      background-color: #E8F0FE;\n",
              "      border: none;\n",
              "      border-radius: 50%;\n",
              "      cursor: pointer;\n",
              "      display: none;\n",
              "      fill: #1967D2;\n",
              "      height: 32px;\n",
              "      padding: 0 0 0 0;\n",
              "      width: 32px;\n",
              "    }\n",
              "\n",
              "    .colab-df-convert:hover {\n",
              "      background-color: #E2EBFA;\n",
              "      box-shadow: 0px 1px 2px rgba(60, 64, 67, 0.3), 0px 1px 3px 1px rgba(60, 64, 67, 0.15);\n",
              "      fill: #174EA6;\n",
              "    }\n",
              "\n",
              "    [theme=dark] .colab-df-convert {\n",
              "      background-color: #3B4455;\n",
              "      fill: #D2E3FC;\n",
              "    }\n",
              "\n",
              "    [theme=dark] .colab-df-convert:hover {\n",
              "      background-color: #434B5C;\n",
              "      box-shadow: 0px 1px 3px 1px rgba(0, 0, 0, 0.15);\n",
              "      filter: drop-shadow(0px 1px 2px rgba(0, 0, 0, 0.3));\n",
              "      fill: #FFFFFF;\n",
              "    }\n",
              "  </style>\n",
              "\n",
              "      <script>\n",
              "        const buttonEl =\n",
              "          document.querySelector('#df-4e1ee633-325a-4475-b89e-d23ab47b01ca button.colab-df-convert');\n",
              "        buttonEl.style.display =\n",
              "          google.colab.kernel.accessAllowed ? 'block' : 'none';\n",
              "\n",
              "        async function convertToInteractive(key) {\n",
              "          const element = document.querySelector('#df-4e1ee633-325a-4475-b89e-d23ab47b01ca');\n",
              "          const dataTable =\n",
              "            await google.colab.kernel.invokeFunction('convertToInteractive',\n",
              "                                                     [key], {});\n",
              "          if (!dataTable) return;\n",
              "\n",
              "          const docLinkHtml = 'Like what you see? Visit the ' +\n",
              "            '<a target=\"_blank\" href=https://colab.research.google.com/notebooks/data_table.ipynb>data table notebook</a>'\n",
              "            + ' to learn more about interactive tables.';\n",
              "          element.innerHTML = '';\n",
              "          dataTable['output_type'] = 'display_data';\n",
              "          await google.colab.output.renderOutput(dataTable, element);\n",
              "          const docLink = document.createElement('div');\n",
              "          docLink.innerHTML = docLinkHtml;\n",
              "          element.appendChild(docLink);\n",
              "        }\n",
              "      </script>\n",
              "    </div>\n",
              "  </div>\n",
              "  "
            ]
          },
          "metadata": {},
          "execution_count": 7
        }
      ],
      "source": [
        "dadosGasDolar"
      ]
    },
    {
      "cell_type": "code",
      "execution_count": null,
      "metadata": {
        "colab": {
          "base_uri": "https://localhost:8080/",
          "height": 265
        },
        "id": "0UzCuTYULYLu",
        "outputId": "5852b325-2883-4a64-daca-f8af6a759236"
      },
      "outputs": [
        {
          "data": {
            "image/png": "[encoded data removed]",
            "text/plain": [
              "<Figure size 432x288 with 1 Axes>"
            ]
          },
          "metadata": {},
          "output_type": "display_data"
        }
      ],
      "source": [
        "plt.hist(x = dadosGasDolar['Ano']);"
      ]
    },
    {
      "cell_type": "code",
      "execution_count": null,
      "metadata": {
        "colab": {
          "base_uri": "https://localhost:8080/",
          "height": 542
        },
        "id": "1TZcIyptL3yh",
        "outputId": "4ffb564f-cc3a-4af1-d863-e031f0303c42"
      },
      "outputs": [
        {
          "data": {
            "text/html": [
              "<html>\n",
              "<head><meta charset=\"utf-8\" /></head>\n",
              "<body>\n",
              "    <div>            <script src=\"https://cdnjs.cloudflare.com/ajax/libs/mathjax/2.7.5/MathJax.js?config=TeX-AMS-MML_SVG\"></script><script type=\"text/javascript\">if (window.MathJax && window.MathJax.Hub && && window.MathJax.Hub.Config) {window.MathJax.Hub.Config({SVG: {font: \"STIX-Web\"}});}</script>                <script type=\"text/javascript\">window.PlotlyConfig = {MathJaxConfig: 'local'};</script>\n",
              "        <script src=\"https://cdn.plot.ly/plotly-2.12.1.min.js\"></script>                <div id=\"02d44cb1-e645-4a34-836e-068349879840\" class=\"plotly-graph-div\" style=\"height:525px; width:100%;\"></div>            <script type=\"text/javascript\">                                    window.PLOTLYENV=window.PLOTLYENV || {};                                    if (document.getElementById(\"02d44cb1-e645-4a34-836e-068349879840\")) {                    Plotly.newPlot(                        \"02d44cb1-e645-4a34-836e-068349879840\",                        [{\"dimensions\":[{\"axis\":{\"matches\":true},\"label\":\"Ano\",\"values\":[2017,2017,2017,2017,2017,2017,2017,2017,2017,2017,2018,2018,2018,2018,2018,2018,2018,2018,2018,2018,2018,2018,2018,2019,2019,2019,2019,2019,2019,2019,2019,2019,2019,2019,2019,2020,2020,2020,2020,2020,2020,2020,2020,2020,2020,2020,2020,2021,2021,2021,2021,2021,2021,2021,2021,2021,2021,2021,2021,2022,2022,2022,2022,2022]},{\"axis\":{\"matches\":true},\"label\":\"Mes\",\"values\":[\"Maio\",\"Junho\",\"Julho\",\"Agosto\",\"Agosto\",\"Setembro\",\"Setembro\",\"Outubro\",\"Novembro\",\"Dezembro\",\"Janeiro\",\"Fevereiro\",\"Marco\",\"Abril\",\"Maio\",\"Junho\",\"Julho\",\"Agosto\",\"Setembro\",\"Outubro\",\"Novembro\",\"Novembro\",\"Dezembro\",\"Janeiro\",\"Fevereiro\",\"Marco\",\"Abril\",\"Maio\",\"Junho\",\"Julho\",\"Agosto\",\"Setembro\",\"Outubro\",\"Novembro\",\"Dezembro\",\"Janeiro\",\"Fevereiro\",\"Marco\",\"Abril\",\"Maio\",\"Junho\",\"Julho\",\"Agosto\",\"Setembro\",\"Outubro\",\"Novembro\",\"Dezembro\",\"Janeiro\",\"Fevereiro\",\"Marco\",\"Abril\",\"Maio\",\"Junho\",\"Julho\",\"Agosto\",\"Setembro\",\"Outubro\",\"Novembro\",\"Dezembro\",\"Janeiro\",\"Fevereiro\",\"Marco\",\"Abril\",\"Maio\"]},{\"axis\":{\"matches\":true},\"label\":\"Gasolina_PrecoMedio\",\"values\":[\"3.617\",\"3.548\",\"3.553\",\"3.781\",\"3.781\",\"3.881\",\"3.881\",\"3.895\",\"4.004\",\"4.085\",\"4.189\",\"4.208\",\"4.199\",\"4.215\",\"4.314\",\"4.552\",\"4.492\",\"4.447\",\"4.625\",\"4.717\",\"4.59\",\"4.59\",\"4.365\",\"4.268\",\"4.19\",\"4.305\",\"4.437\",\"4.552\",\"4.468\",\"4.351\",\"4.316\",\"4.326\",\"4.38\",\"4.413\",\"4.531\",\"4.579\",\"4.55\",\"4.462\",\"4.066\",\"3.818\",\"3.964\",\"4.144\",\"4.237\",\"na\",\"4.358\",\"4.409\",\"4.483\",\"4.622\",\"4.951\",\"5.484\",\"5.448\",\"5.604\",\"5.687\",\"5.807\",\"5.933\",\"6.078\",\"6.341\",\"6.744\",\"6.67\",\"6.635\",\"6.6\",\"7.012\",\"7.245\",\"7.297\"]}],\"hovertemplate\":\"%{xaxis.title.text}=%{x}<br>%{yaxis.title.text}=%{y}<br>Valor_Dolar=%{marker.color}<extra></extra>\",\"legendgroup\":\"\",\"marker\":{\"color\":[3.126,3.101,3.283,3.189,3.189,3.197,3.197,3.125,3.157,3.283,3.318,3.196,3.22,3.285,3.41,3.675,3.773,3.874,3.913,4.187,3.733,3.733,3.792,3.309,3.704,3.715,3.834,3.873,4.003,3.881,3.746,4.018,4.061,4.148,4.183,4.094,4.162,4.316,4.736,5.257,5.822,5.188,5.349,5.385,5.272,5.617,5.485,5.096,5.271,5.381,5.629,5.623,5.27,5.087,5.1,5.247,5.257,5.451,5.419,5.712,5.534,5.188,5.131,4.715],\"coloraxis\":\"coloraxis\",\"symbol\":\"circle\"},\"name\":\"\",\"showlegend\":false,\"type\":\"splom\"}],                        {\"template\":{\"data\":{\"histogram2dcontour\":[{\"type\":\"histogram2dcontour\",\"colorbar\":{\"outlinewidth\":0,\"ticks\":\"\"},\"colorscale\":[[0.0,\"#0d0887\"],[0.1111111111111111,\"#46039f\"],[0.2222222222222222,\"#7201a8\"],[0.3333333333333333,\"#9c179e\"],[0.4444444444444444,\"#bd3786\"],[0.5555555555555556,\"#d8576b\"],[0.6666666666666666,\"#ed7953\"],[0.7777777777777778,\"#fb9f3a\"],[0.8888888888888888,\"#fdca26\"],[1.0,\"#f0f921\"]]}],\"choropleth\":[{\"type\":\"choropleth\",\"colorbar\":{\"outlinewidth\":0,\"ticks\":\"\"}}],\"histogram2d\":[{\"type\":\"histogram2d\",\"colorbar\":{\"outlinewidth\":0,\"ticks\":\"\"},\"colorscale\":[[0.0,\"#0d0887\"],[0.1111111111111111,\"#46039f\"],[0.2222222222222222,\"#7201a8\"],[0.3333333333333333,\"#9c179e\"],[0.4444444444444444,\"#bd3786\"],[0.5555555555555556,\"#d8576b\"],[0.6666666666666666,\"#ed7953\"],[0.7777777777777778,\"#fb9f3a\"],[0.8888888888888888,\"#fdca26\"],[1.0,\"#f0f921\"]]}],\"heatmap\":[{\"type\":\"heatmap\",\"colorbar\":{\"outlinewidth\":0,\"ticks\":\"\"},\"colorscale\":[[0.0,\"#0d0887\"],[0.1111111111111111,\"#46039f\"],[0.2222222222222222,\"#7201a8\"],[0.3333333333333333,\"#9c179e\"],[0.4444444444444444,\"#bd3786\"],[0.5555555555555556,\"#d8576b\"],[0.6666666666666666,\"#ed7953\"],[0.7777777777777778,\"#fb9f3a\"],[0.8888888888888888,\"#fdca26\"],[1.0,\"#f0f921\"]]}],\"heatmapgl\":[{\"type\":\"heatmapgl\",\"colorbar\":{\"outlinewidth\":0,\"ticks\":\"\"},\"colorscale\":[[0.0,\"#0d0887\"],[0.1111111111111111,\"#46039f\"],[0.2222222222222222,\"#7201a8\"],[0.3333333333333333,\"#9c179e\"],[0.4444444444444444,\"#bd3786\"],[0.5555555555555556,\"#d8576b\"],[0.6666666666666666,\"#ed7953\"],[0.7777777777777778,\"#fb9f3a\"],[0.8888888888888888,\"#fdca26\"],[1.0,\"#f0f921\"]]}],\"contourcarpet\":[{\"type\":\"contourcarpet\",\"colorbar\":{\"outlinewidth\":0,\"ticks\":\"\"}}],\"contour\":[{\"type\":\"contour\",\"colorbar\":{\"outlinewidth\":0,\"ticks\":\"\"},\"colorscale\":[[0.0,\"#0d0887\"],[0.1111111111111111,\"#46039f\"],[0.2222222222222222,\"#7201a8\"],[0.3333333333333333,\"#9c179e\"],[0.4444444444444444,\"#bd3786\"],[0.5555555555555556,\"#d8576b\"],[0.6666666666666666,\"#ed7953\"],[0.7777777777777778,\"#fb9f3a\"],[0.8888888888888888,\"#fdca26\"],[1.0,\"#f0f921\"]]}],\"surface\":[{\"type\":\"surface\",\"colorbar\":{\"outlinewidth\":0,\"ticks\":\"\"},\"colorscale\":[[0.0,\"#0d0887\"],[0.1111111111111111,\"#46039f\"],[0.2222222222222222,\"#7201a8\"],[0.3333333333333333,\"#9c179e\"],[0.4444444444444444,\"#bd3786\"],[0.5555555555555556,\"#d8576b\"],[0.6666666666666666,\"#ed7953\"],[0.7777777777777778,\"#fb9f3a\"],[0.8888888888888888,\"#fdca26\"],[1.0,\"#f0f921\"]]}],\"mesh3d\":[{\"type\":\"mesh3d\",\"colorbar\":{\"outlinewidth\":0,\"ticks\":\"\"}}],\"scatter\":[{\"fillpattern\":{\"fillmode\":\"overlay\",\"size\":10,\"solidity\":0.2},\"type\":\"scatter\"}],\"parcoords\":[{\"type\":\"parcoords\",\"line\":{\"colorbar\":{\"outlinewidth\":0,\"ticks\":\"\"}}}],\"scatterpolargl\":[{\"type\":\"scatterpolargl\",\"marker\":{\"colorbar\":{\"outlinewidth\":0,\"ticks\":\"\"}}}],\"bar\":[{\"error_x\":{\"color\":\"#2a3f5f\"},\"error_y\":{\"color\":\"#2a3f5f\"},\"marker\":{\"line\":{\"color\":\"#E5ECF6\",\"width\":0.5},\"pattern\":{\"fillmode\":\"overlay\",\"size\":10,\"solidity\":0.2}},\"type\":\"bar\"}],\"scattergeo\":[{\"type\":\"scattergeo\",\"marker\":{\"colorbar\":{\"outlinewidth\":0,\"ticks\":\"\"}}}],\"scatterpolar\":[{\"type\":\"scatterpolar\",\"marker\":{\"colorbar\":{\"outlinewidth\":0,\"ticks\":\"\"}}}],\"histogram\":[{\"marker\":{\"pattern\":{\"fillmode\":\"overlay\",\"size\":10,\"solidity\":0.2}},\"type\":\"histogram\"}],\"scattergl\":[{\"type\":\"scattergl\",\"marker\":{\"colorbar\":{\"outlinewidth\":0,\"ticks\":\"\"}}}],\"scatter3d\":[{\"type\":\"scatter3d\",\"line\":{\"colorbar\":{\"outlinewidth\":0,\"ticks\":\"\"}},\"marker\":{\"colorbar\":{\"outlinewidth\":0,\"ticks\":\"\"}}}],\"scattermapbox\":[{\"type\":\"scattermapbox\",\"marker\":{\"colorbar\":{\"outlinewidth\":0,\"ticks\":\"\"}}}],\"scatterternary\":[{\"type\":\"scatterternary\",\"marker\":{\"colorbar\":{\"outlinewidth\":0,\"ticks\":\"\"}}}],\"scattercarpet\":[{\"type\":\"scattercarpet\",\"marker\":{\"colorbar\":{\"outlinewidth\":0,\"ticks\":\"\"}}}],\"carpet\":[{\"aaxis\":{\"endlinecolor\":\"#2a3f5f\",\"gridcolor\":\"white\",\"linecolor\":\"white\",\"minorgridcolor\":\"white\",\"startlinecolor\":\"#2a3f5f\"},\"baxis\":{\"endlinecolor\":\"#2a3f5f\",\"gridcolor\":\"white\",\"linecolor\":\"white\",\"minorgridcolor\":\"white\",\"startlinecolor\":\"#2a3f5f\"},\"type\":\"carpet\"}],\"table\":[{\"cells\":{\"fill\":{\"color\":\"#EBF0F8\"},\"line\":{\"color\":\"white\"}},\"header\":{\"fill\":{\"color\":\"#C8D4E3\"},\"line\":{\"color\":\"white\"}},\"type\":\"table\"}],\"barpolar\":[{\"marker\":{\"line\":{\"color\":\"#E5ECF6\",\"width\":0.5},\"pattern\":{\"fillmode\":\"overlay\",\"size\":10,\"solidity\":0.2}},\"type\":\"barpolar\"}],\"pie\":[{\"automargin\":true,\"type\":\"pie\"}]},\"layout\":{\"autotypenumbers\":\"strict\",\"colorway\":[\"#636efa\",\"#EF553B\",\"#00cc96\",\"#ab63fa\",\"#FFA15A\",\"#19d3f3\",\"#FF6692\",\"#B6E880\",\"#FF97FF\",\"#FECB52\"],\"font\":{\"color\":\"#2a3f5f\"},\"hovermode\":\"closest\",\"hoverlabel\":{\"align\":\"left\"},\"paper_bgcolor\":\"white\",\"plot_bgcolor\":\"#E5ECF6\",\"polar\":{\"bgcolor\":\"#E5ECF6\",\"angularaxis\":{\"gridcolor\":\"white\",\"linecolor\":\"white\",\"ticks\":\"\"},\"radialaxis\":{\"gridcolor\":\"white\",\"linecolor\":\"white\",\"ticks\":\"\"}},\"ternary\":{\"bgcolor\":\"#E5ECF6\",\"aaxis\":{\"gridcolor\":\"white\",\"linecolor\":\"white\",\"ticks\":\"\"},\"baxis\":{\"gridcolor\":\"white\",\"linecolor\":\"white\",\"ticks\":\"\"},\"caxis\":{\"gridcolor\":\"white\",\"linecolor\":\"white\",\"ticks\":\"\"}},\"coloraxis\":{\"colorbar\":{\"outlinewidth\":0,\"ticks\":\"\"}},\"colorscale\":{\"sequential\":[[0.0,\"#0d0887\"],[0.1111111111111111,\"#46039f\"],[0.2222222222222222,\"#7201a8\"],[0.3333333333333333,\"#9c179e\"],[0.4444444444444444,\"#bd3786\"],[0.5555555555555556,\"#d8576b\"],[0.6666666666666666,\"#ed7953\"],[0.7777777777777778,\"#fb9f3a\"],[0.8888888888888888,\"#fdca26\"],[1.0,\"#f0f921\"]],\"sequentialminus\":[[0.0,\"#0d0887\"],[0.1111111111111111,\"#46039f\"],[0.2222222222222222,\"#7201a8\"],[0.3333333333333333,\"#9c179e\"],[0.4444444444444444,\"#bd3786\"],[0.5555555555555556,\"#d8576b\"],[0.6666666666666666,\"#ed7953\"],[0.7777777777777778,\"#fb9f3a\"],[0.8888888888888888,\"#fdca26\"],[1.0,\"#f0f921\"]],\"diverging\":[[0,\"#8e0152\"],[0.1,\"#c51b7d\"],[0.2,\"#de77ae\"],[0.3,\"#f1b6da\"],[0.4,\"#fde0ef\"],[0.5,\"#f7f7f7\"],[0.6,\"#e6f5d0\"],[0.7,\"#b8e186\"],[0.8,\"#7fbc41\"],[0.9,\"#4d9221\"],[1,\"#276419\"]]},\"xaxis\":{\"gridcolor\":\"white\",\"linecolor\":\"white\",\"ticks\":\"\",\"title\":{\"standoff\":15},\"zerolinecolor\":\"white\",\"automargin\":true,\"zerolinewidth\":2},\"yaxis\":{\"gridcolor\":\"white\",\"linecolor\":\"white\",\"ticks\":\"\",\"title\":{\"standoff\":15},\"zerolinecolor\":\"white\",\"automargin\":true,\"zerolinewidth\":2},\"scene\":{\"xaxis\":{\"backgroundcolor\":\"#E5ECF6\",\"gridcolor\":\"white\",\"linecolor\":\"white\",\"showbackground\":true,\"ticks\":\"\",\"zerolinecolor\":\"white\",\"gridwidth\":2},\"yaxis\":{\"backgroundcolor\":\"#E5ECF6\",\"gridcolor\":\"white\",\"linecolor\":\"white\",\"showbackground\":true,\"ticks\":\"\",\"zerolinecolor\":\"white\",\"gridwidth\":2},\"zaxis\":{\"backgroundcolor\":\"#E5ECF6\",\"gridcolor\":\"white\",\"linecolor\":\"white\",\"showbackground\":true,\"ticks\":\"\",\"zerolinecolor\":\"white\",\"gridwidth\":2}},\"shapedefaults\":{\"line\":{\"color\":\"#2a3f5f\"}},\"annotationdefaults\":{\"arrowcolor\":\"#2a3f5f\",\"arrowhead\":0,\"arrowwidth\":1},\"geo\":{\"bgcolor\":\"white\",\"landcolor\":\"#E5ECF6\",\"subunitcolor\":\"white\",\"showland\":true,\"showlakes\":true,\"lakecolor\":\"white\"},\"title\":{\"x\":0.05},\"mapbox\":{\"style\":\"light\"}}},\"coloraxis\":{\"colorbar\":{\"title\":{\"text\":\"Valor_Dolar\"}},\"colorscale\":[[0.0,\"#0d0887\"],[0.1111111111111111,\"#46039f\"],[0.2222222222222222,\"#7201a8\"],[0.3333333333333333,\"#9c179e\"],[0.4444444444444444,\"#bd3786\"],[0.5555555555555556,\"#d8576b\"],[0.6666666666666666,\"#ed7953\"],[0.7777777777777778,\"#fb9f3a\"],[0.8888888888888888,\"#fdca26\"],[1.0,\"#f0f921\"]]},\"legend\":{\"tracegroupgap\":0},\"margin\":{\"t\":60},\"dragmode\":\"select\"},                        {\"responsive\": true}                    ).then(function(){\n",
              "                            \n",
              "var gd = document.getElementById('02d44cb1-e645-4a34-836e-068349879840');\n",
              "var x = new MutationObserver(function (mutations, observer) {{\n",
              "        var display = window.getComputedStyle(gd).display;\n",
              "        if (!display || display === 'none') {{\n",
              "            console.log([gd, 'removed!']);\n",
              "            Plotly.purge(gd);\n",
              "            observer.disconnect();\n",
              "        }}\n",
              "}});\n",
              "\n",
              "// Listen for the removal of the full notebook cells\n",
              "var notebookContainer = gd.closest('#notebook-container');\n",
              "if (notebookContainer) {{\n",
              "    x.observe(notebookContainer, {childList: true});\n",
              "}}\n",
              "\n",
              "// Listen for the clearing of the current output cell\n",
              "var outputEl = gd.closest('.output');\n",
              "if (outputEl) {{\n",
              "    x.observe(outputEl, {childList: true});\n",
              "}}\n",
              "\n",
              "                        })                };                            </script>        </div>\n",
              "</body>\n",
              "</html>"
            ]
          },
          "metadata": {},
          "output_type": "display_data"
        }
      ],
      "source": [
        "grafico = px.scatter_matrix(dadosGasDolar, dimensions=['Ano', 'Mes', 'Gasolina_PrecoMedio'], color = 'Valor_Dolar')\n",
        "grafico.show()"
      ]
    },
    {
      "cell_type": "markdown",
      "metadata": {
        "id": "iZmY8qrTNuS9"
      },
      "source": [
        "Média do Valor do Dolar entre 2017 e 2022"
      ]
    },
    {
      "cell_type": "code",
      "execution_count": null,
      "metadata": {
        "colab": {
          "base_uri": "https://localhost:8080/"
        },
        "id": "NutABVLHNepD",
        "outputId": "0690a457-d877-461d-d4fb-121eacf60888"
      },
      "outputs": [
        {
          "data": {
            "text/plain": [
              "4.316015624999998"
            ]
          },
          "execution_count": 26,
          "metadata": {},
          "output_type": "execute_result"
        }
      ],
      "source": [
        "dadosGasDolar['Valor_Dolar'].mean()"
      ]
    },
    {
      "cell_type": "code",
      "execution_count": null,
      "metadata": {
        "colab": {
          "base_uri": "https://localhost:8080/"
        },
        "id": "dmca7d-YNtEd",
        "outputId": "e137ccec-6676-433e-c7c5-52e5993e418a"
      },
      "outputs": [
        {
          "data": {
            "text/plain": [
              "Ano                      0\n",
              "Mes                      0\n",
              "Gasolina_PrecoMedio      0\n",
              "Gasolina_DesvioPadrao    0\n",
              "Gasolina_Min             0\n",
              "Gasolina_Max             0\n",
              "Valor_Dolar              0\n",
              "dtype: int64"
            ]
          },
          "execution_count": 27,
          "metadata": {},
          "output_type": "execute_result"
        }
      ],
      "source": [
        "dadosGasDolar.isnull().sum()"
      ]
    },
    {
      "cell_type": "code",
      "execution_count": null,
      "metadata": {
        "colab": {
          "base_uri": "https://localhost:8080/",
          "height": 542
        },
        "id": "kPyq0EXQOQUd",
        "outputId": "9a387035-3248-4aa1-8ef9-6cef55608523"
      },
      "outputs": [
        {
          "data": {
            "text/html": [
              "<html>\n",
              "<head><meta charset=\"utf-8\" /></head>\n",
              "<body>\n",
              "    <div>            <script src=\"https://cdnjs.cloudflare.com/ajax/libs/mathjax/2.7.5/MathJax.js?config=TeX-AMS-MML_SVG\"></script><script type=\"text/javascript\">if (window.MathJax && window.MathJax.Hub && && window.MathJax.Hub.Config) {window.MathJax.Hub.Config({SVG: {font: \"STIX-Web\"}});}</script>                <script type=\"text/javascript\">window.PlotlyConfig = {MathJaxConfig: 'local'};</script>\n",
              "        <script src=\"https://cdn.plot.ly/plotly-2.12.1.min.js\"></script>                <div id=\"636a6791-2835-405b-acbf-c26889c78db5\" class=\"plotly-graph-div\" style=\"height:525px; width:100%;\"></div>            <script type=\"text/javascript\">                                    window.PLOTLYENV=window.PLOTLYENV || {};                                    if (document.getElementById(\"636a6791-2835-405b-acbf-c26889c78db5\")) {                    Plotly.newPlot(                        \"636a6791-2835-405b-acbf-c26889c78db5\",                        [{\"branchvalues\":\"total\",\"domain\":{\"x\":[0.0,1.0],\"y\":[0.0,1.0]},\"hovertemplate\":\"labels=%{label}<br>count=%{value}<br>parent=%{parent}<br>id=%{id}<extra></extra>\",\"ids\":[\"2017/3.101/3.548\",\"2017/3.283/3.553\",\"2017/3.126/3.617\",\"2017/3.189/3.781\",\"2020/5.257/3.818\",\"2017/3.197/3.881\",\"2017/3.125/3.895\",\"2020/5.822/3.964\",\"2017/3.157/4.004\",\"2020/4.736/4.066\",\"2017/3.283/4.085\",\"2020/5.188/4.144\",\"2018/3.318/4.189\",\"2019/3.704/4.19\",\"2018/3.22/4.199\",\"2018/3.196/4.208\",\"2018/3.285/4.215\",\"2020/5.349/4.237\",\"2019/3.309/4.268\",\"2019/3.715/4.305\",\"2018/3.41/4.314\",\"2019/3.746/4.316\",\"2019/4.018/4.326\",\"2019/3.881/4.351\",\"2020/5.272/4.358\",\"2018/3.792/4.365\",\"2019/4.061/4.38\",\"2020/5.617/4.409\",\"2019/4.148/4.413\",\"2019/3.834/4.437\",\"2018/3.874/4.447\",\"2020/4.316/4.462\",\"2019/4.003/4.468\",\"2020/5.485/4.483\",\"2018/3.773/4.492\",\"2019/4.183/4.531\",\"2020/4.162/4.55\",\"2018/3.675/4.552\",\"2019/3.873/4.552\",\"2020/4.094/4.579\",\"2018/3.733/4.59\",\"2021/5.096/4.622\",\"2018/3.913/4.625\",\"2018/4.187/4.717\",\"2021/5.271/4.951\",\"2021/5.629/5.448\",\"2021/5.381/5.484\",\"2021/5.623/5.604\",\"2021/5.27/5.687\",\"2021/5.087/5.807\",\"2021/5.1/5.933\",\"2021/5.247/6.078\",\"2021/5.257/6.341\",\"2022/5.534/6.6\",\"2022/5.712/6.635\",\"2021/5.419/6.67\",\"2021/5.451/6.744\",\"2022/5.188/7.012\",\"2022/5.131/7.245\",\"2022/4.715/7.297\",\"2020/5.385/na\",\"2017/3.101\",\"2017/3.125\",\"2017/3.126\",\"2017/3.157\",\"2017/3.189\",\"2018/3.196\",\"2017/3.197\",\"2018/3.22\",\"2017/3.283\",\"2018/3.285\",\"2019/3.309\",\"2018/3.318\",\"2018/3.41\",\"2018/3.675\",\"2019/3.704\",\"2019/3.715\",\"2018/3.733\",\"2019/3.746\",\"2018/3.773\",\"2018/3.792\",\"2019/3.834\",\"2019/3.873\",\"2018/3.874\",\"2019/3.881\",\"2018/3.913\",\"2019/4.003\",\"2019/4.018\",\"2019/4.061\",\"2020/4.094\",\"2019/4.148\",\"2020/4.162\",\"2019/4.183\",\"2018/4.187\",\"2020/4.316\",\"2022/4.715\",\"2020/4.736\",\"2021/5.087\",\"2021/5.096\",\"2021/5.1\",\"2022/5.131\",\"2020/5.188\",\"2022/5.188\",\"2021/5.247\",\"2020/5.257\",\"2021/5.257\",\"2021/5.27\",\"2021/5.271\",\"2020/5.272\",\"2020/5.349\",\"2021/5.381\",\"2020/5.385\",\"2021/5.419\",\"2021/5.451\",\"2020/5.485\",\"2022/5.534\",\"2020/5.617\",\"2021/5.623\",\"2021/5.629\",\"2022/5.712\",\"2020/5.822\",\"2017\",\"2018\",\"2019\",\"2020\",\"2021\",\"2022\"],\"labels\":[\"3.548\",\"3.553\",\"3.617\",\"3.781\",\"3.818\",\"3.881\",\"3.895\",\"3.964\",\"4.004\",\"4.066\",\"4.085\",\"4.144\",\"4.189\",\"4.19\",\"4.199\",\"4.208\",\"4.215\",\"4.237\",\"4.268\",\"4.305\",\"4.314\",\"4.316\",\"4.326\",\"4.351\",\"4.358\",\"4.365\",\"4.38\",\"4.409\",\"4.413\",\"4.437\",\"4.447\",\"4.462\",\"4.468\",\"4.483\",\"4.492\",\"4.531\",\"4.55\",\"4.552\",\"4.552\",\"4.579\",\"4.59\",\"4.622\",\"4.625\",\"4.717\",\"4.951\",\"5.448\",\"5.484\",\"5.604\",\"5.687\",\"5.807\",\"5.933\",\"6.078\",\"6.341\",\"6.6\",\"6.635\",\"6.67\",\"6.744\",\"7.012\",\"7.245\",\"7.297\",\"na\",\"3.101\",\"3.125\",\"3.126\",\"3.157\",\"3.189\",\"3.196\",\"3.197\",\"3.22\",\"3.283\",\"3.285\",\"3.309\",\"3.318\",\"3.41\",\"3.675\",\"3.704\",\"3.715\",\"3.733\",\"3.746\",\"3.773\",\"3.792\",\"3.834\",\"3.873\",\"3.874\",\"3.881\",\"3.913\",\"4.003\",\"4.018\",\"4.061\",\"4.094\",\"4.148\",\"4.162\",\"4.183\",\"4.187\",\"4.316\",\"4.715\",\"4.736\",\"5.087\",\"5.096\",\"5.1\",\"5.131\",\"5.188\",\"5.188\",\"5.247\",\"5.257\",\"5.257\",\"5.27\",\"5.271\",\"5.272\",\"5.349\",\"5.381\",\"5.385\",\"5.419\",\"5.451\",\"5.485\",\"5.534\",\"5.617\",\"5.623\",\"5.629\",\"5.712\",\"5.822\",\"2017\",\"2018\",\"2019\",\"2020\",\"2021\",\"2022\"],\"name\":\"\",\"parents\":[\"2017/3.101\",\"2017/3.283\",\"2017/3.126\",\"2017/3.189\",\"2020/5.257\",\"2017/3.197\",\"2017/3.125\",\"2020/5.822\",\"2017/3.157\",\"2020/4.736\",\"2017/3.283\",\"2020/5.188\",\"2018/3.318\",\"2019/3.704\",\"2018/3.22\",\"2018/3.196\",\"2018/3.285\",\"2020/5.349\",\"2019/3.309\",\"2019/3.715\",\"2018/3.41\",\"2019/3.746\",\"2019/4.018\",\"2019/3.881\",\"2020/5.272\",\"2018/3.792\",\"2019/4.061\",\"2020/5.617\",\"2019/4.148\",\"2019/3.834\",\"2018/3.874\",\"2020/4.316\",\"2019/4.003\",\"2020/5.485\",\"2018/3.773\",\"2019/4.183\",\"2020/4.162\",\"2018/3.675\",\"2019/3.873\",\"2020/4.094\",\"2018/3.733\",\"2021/5.096\",\"2018/3.913\",\"2018/4.187\",\"2021/5.271\",\"2021/5.629\",\"2021/5.381\",\"2021/5.623\",\"2021/5.27\",\"2021/5.087\",\"2021/5.1\",\"2021/5.247\",\"2021/5.257\",\"2022/5.534\",\"2022/5.712\",\"2021/5.419\",\"2021/5.451\",\"2022/5.188\",\"2022/5.131\",\"2022/4.715\",\"2020/5.385\",\"2017\",\"2017\",\"2017\",\"2017\",\"2017\",\"2018\",\"2017\",\"2018\",\"2017\",\"2018\",\"2019\",\"2018\",\"2018\",\"2018\",\"2019\",\"2019\",\"2018\",\"2019\",\"2018\",\"2018\",\"2019\",\"2019\",\"2018\",\"2019\",\"2018\",\"2019\",\"2019\",\"2019\",\"2020\",\"2019\",\"2020\",\"2019\",\"2018\",\"2020\",\"2022\",\"2020\",\"2021\",\"2021\",\"2021\",\"2022\",\"2020\",\"2022\",\"2021\",\"2020\",\"2021\",\"2021\",\"2021\",\"2020\",\"2020\",\"2021\",\"2020\",\"2021\",\"2021\",\"2020\",\"2022\",\"2020\",\"2021\",\"2021\",\"2022\",\"2020\",\"\",\"\",\"\",\"\",\"\",\"\"],\"values\":[1,1,1,2,1,2,1,1,1,1,1,1,1,1,1,1,1,1,1,1,1,1,1,1,1,1,1,1,1,1,1,1,1,1,1,1,1,1,1,1,2,1,1,1,1,1,1,1,1,1,1,1,1,1,1,1,1,1,1,1,1,1,1,1,1,2,1,2,1,2,1,1,1,1,1,1,1,2,1,1,1,1,1,1,1,1,1,1,1,1,1,1,1,1,1,1,1,1,1,1,1,1,1,1,1,1,1,1,1,1,1,1,1,1,1,1,1,1,1,1,1,10,13,12,12,12,5],\"type\":\"treemap\"}],                        {\"template\":{\"data\":{\"histogram2dcontour\":[{\"type\":\"histogram2dcontour\",\"colorbar\":{\"outlinewidth\":0,\"ticks\":\"\"},\"colorscale\":[[0.0,\"#0d0887\"],[0.1111111111111111,\"#46039f\"],[0.2222222222222222,\"#7201a8\"],[0.3333333333333333,\"#9c179e\"],[0.4444444444444444,\"#bd3786\"],[0.5555555555555556,\"#d8576b\"],[0.6666666666666666,\"#ed7953\"],[0.7777777777777778,\"#fb9f3a\"],[0.8888888888888888,\"#fdca26\"],[1.0,\"#f0f921\"]]}],\"choropleth\":[{\"type\":\"choropleth\",\"colorbar\":{\"outlinewidth\":0,\"ticks\":\"\"}}],\"histogram2d\":[{\"type\":\"histogram2d\",\"colorbar\":{\"outlinewidth\":0,\"ticks\":\"\"},\"colorscale\":[[0.0,\"#0d0887\"],[0.1111111111111111,\"#46039f\"],[0.2222222222222222,\"#7201a8\"],[0.3333333333333333,\"#9c179e\"],[0.4444444444444444,\"#bd3786\"],[0.5555555555555556,\"#d8576b\"],[0.6666666666666666,\"#ed7953\"],[0.7777777777777778,\"#fb9f3a\"],[0.8888888888888888,\"#fdca26\"],[1.0,\"#f0f921\"]]}],\"heatmap\":[{\"type\":\"heatmap\",\"colorbar\":{\"outlinewidth\":0,\"ticks\":\"\"},\"colorscale\":[[0.0,\"#0d0887\"],[0.1111111111111111,\"#46039f\"],[0.2222222222222222,\"#7201a8\"],[0.3333333333333333,\"#9c179e\"],[0.4444444444444444,\"#bd3786\"],[0.5555555555555556,\"#d8576b\"],[0.6666666666666666,\"#ed7953\"],[0.7777777777777778,\"#fb9f3a\"],[0.8888888888888888,\"#fdca26\"],[1.0,\"#f0f921\"]]}],\"heatmapgl\":[{\"type\":\"heatmapgl\",\"colorbar\":{\"outlinewidth\":0,\"ticks\":\"\"},\"colorscale\":[[0.0,\"#0d0887\"],[0.1111111111111111,\"#46039f\"],[0.2222222222222222,\"#7201a8\"],[0.3333333333333333,\"#9c179e\"],[0.4444444444444444,\"#bd3786\"],[0.5555555555555556,\"#d8576b\"],[0.6666666666666666,\"#ed7953\"],[0.7777777777777778,\"#fb9f3a\"],[0.8888888888888888,\"#fdca26\"],[1.0,\"#f0f921\"]]}],\"contourcarpet\":[{\"type\":\"contourcarpet\",\"colorbar\":{\"outlinewidth\":0,\"ticks\":\"\"}}],\"contour\":[{\"type\":\"contour\",\"colorbar\":{\"outlinewidth\":0,\"ticks\":\"\"},\"colorscale\":[[0.0,\"#0d0887\"],[0.1111111111111111,\"#46039f\"],[0.2222222222222222,\"#7201a8\"],[0.3333333333333333,\"#9c179e\"],[0.4444444444444444,\"#bd3786\"],[0.5555555555555556,\"#d8576b\"],[0.6666666666666666,\"#ed7953\"],[0.7777777777777778,\"#fb9f3a\"],[0.8888888888888888,\"#fdca26\"],[1.0,\"#f0f921\"]]}],\"surface\":[{\"type\":\"surface\",\"colorbar\":{\"outlinewidth\":0,\"ticks\":\"\"},\"colorscale\":[[0.0,\"#0d0887\"],[0.1111111111111111,\"#46039f\"],[0.2222222222222222,\"#7201a8\"],[0.3333333333333333,\"#9c179e\"],[0.4444444444444444,\"#bd3786\"],[0.5555555555555556,\"#d8576b\"],[0.6666666666666666,\"#ed7953\"],[0.7777777777777778,\"#fb9f3a\"],[0.8888888888888888,\"#fdca26\"],[1.0,\"#f0f921\"]]}],\"mesh3d\":[{\"type\":\"mesh3d\",\"colorbar\":{\"outlinewidth\":0,\"ticks\":\"\"}}],\"scatter\":[{\"fillpattern\":{\"fillmode\":\"overlay\",\"size\":10,\"solidity\":0.2},\"type\":\"scatter\"}],\"parcoords\":[{\"type\":\"parcoords\",\"line\":{\"colorbar\":{\"outlinewidth\":0,\"ticks\":\"\"}}}],\"scatterpolargl\":[{\"type\":\"scatterpolargl\",\"marker\":{\"colorbar\":{\"outlinewidth\":0,\"ticks\":\"\"}}}],\"bar\":[{\"error_x\":{\"color\":\"#2a3f5f\"},\"error_y\":{\"color\":\"#2a3f5f\"},\"marker\":{\"line\":{\"color\":\"#E5ECF6\",\"width\":0.5},\"pattern\":{\"fillmode\":\"overlay\",\"size\":10,\"solidity\":0.2}},\"type\":\"bar\"}],\"scattergeo\":[{\"type\":\"scattergeo\",\"marker\":{\"colorbar\":{\"outlinewidth\":0,\"ticks\":\"\"}}}],\"scatterpolar\":[{\"type\":\"scatterpolar\",\"marker\":{\"colorbar\":{\"outlinewidth\":0,\"ticks\":\"\"}}}],\"histogram\":[{\"marker\":{\"pattern\":{\"fillmode\":\"overlay\",\"size\":10,\"solidity\":0.2}},\"type\":\"histogram\"}],\"scattergl\":[{\"type\":\"scattergl\",\"marker\":{\"colorbar\":{\"outlinewidth\":0,\"ticks\":\"\"}}}],\"scatter3d\":[{\"type\":\"scatter3d\",\"line\":{\"colorbar\":{\"outlinewidth\":0,\"ticks\":\"\"}},\"marker\":{\"colorbar\":{\"outlinewidth\":0,\"ticks\":\"\"}}}],\"scattermapbox\":[{\"type\":\"scattermapbox\",\"marker\":{\"colorbar\":{\"outlinewidth\":0,\"ticks\":\"\"}}}],\"scatterternary\":[{\"type\":\"scatterternary\",\"marker\":{\"colorbar\":{\"outlinewidth\":0,\"ticks\":\"\"}}}],\"scattercarpet\":[{\"type\":\"scattercarpet\",\"marker\":{\"colorbar\":{\"outlinewidth\":0,\"ticks\":\"\"}}}],\"carpet\":[{\"aaxis\":{\"endlinecolor\":\"#2a3f5f\",\"gridcolor\":\"white\",\"linecolor\":\"white\",\"minorgridcolor\":\"white\",\"startlinecolor\":\"#2a3f5f\"},\"baxis\":{\"endlinecolor\":\"#2a3f5f\",\"gridcolor\":\"white\",\"linecolor\":\"white\",\"minorgridcolor\":\"white\",\"startlinecolor\":\"#2a3f5f\"},\"type\":\"carpet\"}],\"table\":[{\"cells\":{\"fill\":{\"color\":\"#EBF0F8\"},\"line\":{\"color\":\"white\"}},\"header\":{\"fill\":{\"color\":\"#C8D4E3\"},\"line\":{\"color\":\"white\"}},\"type\":\"table\"}],\"barpolar\":[{\"marker\":{\"line\":{\"color\":\"#E5ECF6\",\"width\":0.5},\"pattern\":{\"fillmode\":\"overlay\",\"size\":10,\"solidity\":0.2}},\"type\":\"barpolar\"}],\"pie\":[{\"automargin\":true,\"type\":\"pie\"}]},\"layout\":{\"autotypenumbers\":\"strict\",\"colorway\":[\"#636efa\",\"#EF553B\",\"#00cc96\",\"#ab63fa\",\"#FFA15A\",\"#19d3f3\",\"#FF6692\",\"#B6E880\",\"#FF97FF\",\"#FECB52\"],\"font\":{\"color\":\"#2a3f5f\"},\"hovermode\":\"closest\",\"hoverlabel\":{\"align\":\"left\"},\"paper_bgcolor\":\"white\",\"plot_bgcolor\":\"#E5ECF6\",\"polar\":{\"bgcolor\":\"#E5ECF6\",\"angularaxis\":{\"gridcolor\":\"white\",\"linecolor\":\"white\",\"ticks\":\"\"},\"radialaxis\":{\"gridcolor\":\"white\",\"linecolor\":\"white\",\"ticks\":\"\"}},\"ternary\":{\"bgcolor\":\"#E5ECF6\",\"aaxis\":{\"gridcolor\":\"white\",\"linecolor\":\"white\",\"ticks\":\"\"},\"baxis\":{\"gridcolor\":\"white\",\"linecolor\":\"white\",\"ticks\":\"\"},\"caxis\":{\"gridcolor\":\"white\",\"linecolor\":\"white\",\"ticks\":\"\"}},\"coloraxis\":{\"colorbar\":{\"outlinewidth\":0,\"ticks\":\"\"}},\"colorscale\":{\"sequential\":[[0.0,\"#0d0887\"],[0.1111111111111111,\"#46039f\"],[0.2222222222222222,\"#7201a8\"],[0.3333333333333333,\"#9c179e\"],[0.4444444444444444,\"#bd3786\"],[0.5555555555555556,\"#d8576b\"],[0.6666666666666666,\"#ed7953\"],[0.7777777777777778,\"#fb9f3a\"],[0.8888888888888888,\"#fdca26\"],[1.0,\"#f0f921\"]],\"sequentialminus\":[[0.0,\"#0d0887\"],[0.1111111111111111,\"#46039f\"],[0.2222222222222222,\"#7201a8\"],[0.3333333333333333,\"#9c179e\"],[0.4444444444444444,\"#bd3786\"],[0.5555555555555556,\"#d8576b\"],[0.6666666666666666,\"#ed7953\"],[0.7777777777777778,\"#fb9f3a\"],[0.8888888888888888,\"#fdca26\"],[1.0,\"#f0f921\"]],\"diverging\":[[0,\"#8e0152\"],[0.1,\"#c51b7d\"],[0.2,\"#de77ae\"],[0.3,\"#f1b6da\"],[0.4,\"#fde0ef\"],[0.5,\"#f7f7f7\"],[0.6,\"#e6f5d0\"],[0.7,\"#b8e186\"],[0.8,\"#7fbc41\"],[0.9,\"#4d9221\"],[1,\"#276419\"]]},\"xaxis\":{\"gridcolor\":\"white\",\"linecolor\":\"white\",\"ticks\":\"\",\"title\":{\"standoff\":15},\"zerolinecolor\":\"white\",\"automargin\":true,\"zerolinewidth\":2},\"yaxis\":{\"gridcolor\":\"white\",\"linecolor\":\"white\",\"ticks\":\"\",\"title\":{\"standoff\":15},\"zerolinecolor\":\"white\",\"automargin\":true,\"zerolinewidth\":2},\"scene\":{\"xaxis\":{\"backgroundcolor\":\"#E5ECF6\",\"gridcolor\":\"white\",\"linecolor\":\"white\",\"showbackground\":true,\"ticks\":\"\",\"zerolinecolor\":\"white\",\"gridwidth\":2},\"yaxis\":{\"backgroundcolor\":\"#E5ECF6\",\"gridcolor\":\"white\",\"linecolor\":\"white\",\"showbackground\":true,\"ticks\":\"\",\"zerolinecolor\":\"white\",\"gridwidth\":2},\"zaxis\":{\"backgroundcolor\":\"#E5ECF6\",\"gridcolor\":\"white\",\"linecolor\":\"white\",\"showbackground\":true,\"ticks\":\"\",\"zerolinecolor\":\"white\",\"gridwidth\":2}},\"shapedefaults\":{\"line\":{\"color\":\"#2a3f5f\"}},\"annotationdefaults\":{\"arrowcolor\":\"#2a3f5f\",\"arrowhead\":0,\"arrowwidth\":1},\"geo\":{\"bgcolor\":\"white\",\"landcolor\":\"#E5ECF6\",\"subunitcolor\":\"white\",\"showland\":true,\"showlakes\":true,\"lakecolor\":\"white\"},\"title\":{\"x\":0.05},\"mapbox\":{\"style\":\"light\"}}},\"legend\":{\"tracegroupgap\":0},\"margin\":{\"t\":60}},                        {\"responsive\": true}                    ).then(function(){\n",
              "                            \n",
              "var gd = document.getElementById('636a6791-2835-405b-acbf-c26889c78db5');\n",
              "var x = new MutationObserver(function (mutations, observer) {{\n",
              "        var display = window.getComputedStyle(gd).display;\n",
              "        if (!display || display === 'none') {{\n",
              "            console.log([gd, 'removed!']);\n",
              "            Plotly.purge(gd);\n",
              "            observer.disconnect();\n",
              "        }}\n",
              "}});\n",
              "\n",
              "// Listen for the removal of the full notebook cells\n",
              "var notebookContainer = gd.closest('#notebook-container');\n",
              "if (notebookContainer) {{\n",
              "    x.observe(notebookContainer, {childList: true});\n",
              "}}\n",
              "\n",
              "// Listen for the clearing of the current output cell\n",
              "var outputEl = gd.closest('.output');\n",
              "if (outputEl) {{\n",
              "    x.observe(outputEl, {childList: true});\n",
              "}}\n",
              "\n",
              "                        })                };                            </script>        </div>\n",
              "</body>\n",
              "</html>"
            ]
          },
          "metadata": {},
          "output_type": "display_data"
        }
      ],
      "source": [
        "grafico = px.treemap(dadosGasDolar, path=['Ano', 'Valor_Dolar', 'Gasolina_PrecoMedio'])\n",
        "grafico.show()"
      ]
    },
    {
      "cell_type": "code",
      "execution_count": null,
      "metadata": {
        "colab": {
          "base_uri": "https://localhost:8080/",
          "height": 542
        },
        "id": "xc7cRTkukNg5",
        "outputId": "09a6a884-0df3-477e-fd89-8b5af958fc14"
      },
      "outputs": [
        {
          "data": {
            "text/html": [
              "<html>\n",
              "<head><meta charset=\"utf-8\" /></head>\n",
              "<body>\n",
              "    <div>            <script src=\"https://cdnjs.cloudflare.com/ajax/libs/mathjax/2.7.5/MathJax.js?config=TeX-AMS-MML_SVG\"></script><script type=\"text/javascript\">if (window.MathJax && window.MathJax.Hub && && window.MathJax.Hub.Config) {window.MathJax.Hub.Config({SVG: {font: \"STIX-Web\"}});}</script>                <script type=\"text/javascript\">window.PlotlyConfig = {MathJaxConfig: 'local'};</script>\n",
              "        <script src=\"https://cdn.plot.ly/plotly-2.12.1.min.js\"></script>                <div id=\"a26cacd6-60ee-4b17-a6e6-15a792d4908a\" class=\"plotly-graph-div\" style=\"height:525px; width:100%;\"></div>            <script type=\"text/javascript\">                                    window.PLOTLYENV=window.PLOTLYENV || {};                                    if (document.getElementById(\"a26cacd6-60ee-4b17-a6e6-15a792d4908a\")) {                    Plotly.newPlot(                        \"a26cacd6-60ee-4b17-a6e6-15a792d4908a\",                        [{\"dimensions\":[{\"label\":\"Ano\",\"values\":[2017,2017,2017,2017,2017,2017,2017,2017,2017,2017,2018,2018,2018,2018,2018,2018,2018,2018,2018,2018,2018,2018,2018,2019,2019,2019,2019,2019,2019,2019,2019,2019,2019,2019,2019,2020,2020,2020,2020,2020,2020,2020,2020,2020,2020,2020,2020,2021,2021,2021,2021,2021,2021,2021,2021,2021,2021,2021,2021,2022,2022,2022,2022,2022]},{\"label\":\"Mes\",\"values\":[\"Maio\",\"Junho\",\"Julho\",\"Agosto\",\"Agosto\",\"Setembro\",\"Setembro\",\"Outubro\",\"Novembro\",\"Dezembro\",\"Janeiro\",\"Fevereiro\",\"Marco\",\"Abril\",\"Maio\",\"Junho\",\"Julho\",\"Agosto\",\"Setembro\",\"Outubro\",\"Novembro\",\"Novembro\",\"Dezembro\",\"Janeiro\",\"Fevereiro\",\"Marco\",\"Abril\",\"Maio\",\"Junho\",\"Julho\",\"Agosto\",\"Setembro\",\"Outubro\",\"Novembro\",\"Dezembro\",\"Janeiro\",\"Fevereiro\",\"Marco\",\"Abril\",\"Maio\",\"Junho\",\"Julho\",\"Agosto\",\"Setembro\",\"Outubro\",\"Novembro\",\"Dezembro\",\"Janeiro\",\"Fevereiro\",\"Marco\",\"Abril\",\"Maio\",\"Junho\",\"Julho\",\"Agosto\",\"Setembro\",\"Outubro\",\"Novembro\",\"Dezembro\",\"Janeiro\",\"Fevereiro\",\"Marco\",\"Abril\",\"Maio\"]},{\"label\":\"Gasolina_PrecoMedio\",\"values\":[\"3.617\",\"3.548\",\"3.553\",\"3.781\",\"3.781\",\"3.881\",\"3.881\",\"3.895\",\"4.004\",\"4.085\",\"4.189\",\"4.208\",\"4.199\",\"4.215\",\"4.314\",\"4.552\",\"4.492\",\"4.447\",\"4.625\",\"4.717\",\"4.59\",\"4.59\",\"4.365\",\"4.268\",\"4.19\",\"4.305\",\"4.437\",\"4.552\",\"4.468\",\"4.351\",\"4.316\",\"4.326\",\"4.38\",\"4.413\",\"4.531\",\"4.579\",\"4.55\",\"4.462\",\"4.066\",\"3.818\",\"3.964\",\"4.144\",\"4.237\",\"na\",\"4.358\",\"4.409\",\"4.483\",\"4.622\",\"4.951\",\"5.484\",\"5.448\",\"5.604\",\"5.687\",\"5.807\",\"5.933\",\"6.078\",\"6.341\",\"6.744\",\"6.67\",\"6.635\",\"6.6\",\"7.012\",\"7.245\",\"7.297\"]}],\"domain\":{\"x\":[0.0,1.0],\"y\":[0.0,1.0]},\"name\":\"\",\"type\":\"parcats\"}],                        {\"template\":{\"data\":{\"histogram2dcontour\":[{\"type\":\"histogram2dcontour\",\"colorbar\":{\"outlinewidth\":0,\"ticks\":\"\"},\"colorscale\":[[0.0,\"#0d0887\"],[0.1111111111111111,\"#46039f\"],[0.2222222222222222,\"#7201a8\"],[0.3333333333333333,\"#9c179e\"],[0.4444444444444444,\"#bd3786\"],[0.5555555555555556,\"#d8576b\"],[0.6666666666666666,\"#ed7953\"],[0.7777777777777778,\"#fb9f3a\"],[0.8888888888888888,\"#fdca26\"],[1.0,\"#f0f921\"]]}],\"choropleth\":[{\"type\":\"choropleth\",\"colorbar\":{\"outlinewidth\":0,\"ticks\":\"\"}}],\"histogram2d\":[{\"type\":\"histogram2d\",\"colorbar\":{\"outlinewidth\":0,\"ticks\":\"\"},\"colorscale\":[[0.0,\"#0d0887\"],[0.1111111111111111,\"#46039f\"],[0.2222222222222222,\"#7201a8\"],[0.3333333333333333,\"#9c179e\"],[0.4444444444444444,\"#bd3786\"],[0.5555555555555556,\"#d8576b\"],[0.6666666666666666,\"#ed7953\"],[0.7777777777777778,\"#fb9f3a\"],[0.8888888888888888,\"#fdca26\"],[1.0,\"#f0f921\"]]}],\"heatmap\":[{\"type\":\"heatmap\",\"colorbar\":{\"outlinewidth\":0,\"ticks\":\"\"},\"colorscale\":[[0.0,\"#0d0887\"],[0.1111111111111111,\"#46039f\"],[0.2222222222222222,\"#7201a8\"],[0.3333333333333333,\"#9c179e\"],[0.4444444444444444,\"#bd3786\"],[0.5555555555555556,\"#d8576b\"],[0.6666666666666666,\"#ed7953\"],[0.7777777777777778,\"#fb9f3a\"],[0.8888888888888888,\"#fdca26\"],[1.0,\"#f0f921\"]]}],\"heatmapgl\":[{\"type\":\"heatmapgl\",\"colorbar\":{\"outlinewidth\":0,\"ticks\":\"\"},\"colorscale\":[[0.0,\"#0d0887\"],[0.1111111111111111,\"#46039f\"],[0.2222222222222222,\"#7201a8\"],[0.3333333333333333,\"#9c179e\"],[0.4444444444444444,\"#bd3786\"],[0.5555555555555556,\"#d8576b\"],[0.6666666666666666,\"#ed7953\"],[0.7777777777777778,\"#fb9f3a\"],[0.8888888888888888,\"#fdca26\"],[1.0,\"#f0f921\"]]}],\"contourcarpet\":[{\"type\":\"contourcarpet\",\"colorbar\":{\"outlinewidth\":0,\"ticks\":\"\"}}],\"contour\":[{\"type\":\"contour\",\"colorbar\":{\"outlinewidth\":0,\"ticks\":\"\"},\"colorscale\":[[0.0,\"#0d0887\"],[0.1111111111111111,\"#46039f\"],[0.2222222222222222,\"#7201a8\"],[0.3333333333333333,\"#9c179e\"],[0.4444444444444444,\"#bd3786\"],[0.5555555555555556,\"#d8576b\"],[0.6666666666666666,\"#ed7953\"],[0.7777777777777778,\"#fb9f3a\"],[0.8888888888888888,\"#fdca26\"],[1.0,\"#f0f921\"]]}],\"surface\":[{\"type\":\"surface\",\"colorbar\":{\"outlinewidth\":0,\"ticks\":\"\"},\"colorscale\":[[0.0,\"#0d0887\"],[0.1111111111111111,\"#46039f\"],[0.2222222222222222,\"#7201a8\"],[0.3333333333333333,\"#9c179e\"],[0.4444444444444444,\"#bd3786\"],[0.5555555555555556,\"#d8576b\"],[0.6666666666666666,\"#ed7953\"],[0.7777777777777778,\"#fb9f3a\"],[0.8888888888888888,\"#fdca26\"],[1.0,\"#f0f921\"]]}],\"mesh3d\":[{\"type\":\"mesh3d\",\"colorbar\":{\"outlinewidth\":0,\"ticks\":\"\"}}],\"scatter\":[{\"fillpattern\":{\"fillmode\":\"overlay\",\"size\":10,\"solidity\":0.2},\"type\":\"scatter\"}],\"parcoords\":[{\"type\":\"parcoords\",\"line\":{\"colorbar\":{\"outlinewidth\":0,\"ticks\":\"\"}}}],\"scatterpolargl\":[{\"type\":\"scatterpolargl\",\"marker\":{\"colorbar\":{\"outlinewidth\":0,\"ticks\":\"\"}}}],\"bar\":[{\"error_x\":{\"color\":\"#2a3f5f\"},\"error_y\":{\"color\":\"#2a3f5f\"},\"marker\":{\"line\":{\"color\":\"#E5ECF6\",\"width\":0.5},\"pattern\":{\"fillmode\":\"overlay\",\"size\":10,\"solidity\":0.2}},\"type\":\"bar\"}],\"scattergeo\":[{\"type\":\"scattergeo\",\"marker\":{\"colorbar\":{\"outlinewidth\":0,\"ticks\":\"\"}}}],\"scatterpolar\":[{\"type\":\"scatterpolar\",\"marker\":{\"colorbar\":{\"outlinewidth\":0,\"ticks\":\"\"}}}],\"histogram\":[{\"marker\":{\"pattern\":{\"fillmode\":\"overlay\",\"size\":10,\"solidity\":0.2}},\"type\":\"histogram\"}],\"scattergl\":[{\"type\":\"scattergl\",\"marker\":{\"colorbar\":{\"outlinewidth\":0,\"ticks\":\"\"}}}],\"scatter3d\":[{\"type\":\"scatter3d\",\"line\":{\"colorbar\":{\"outlinewidth\":0,\"ticks\":\"\"}},\"marker\":{\"colorbar\":{\"outlinewidth\":0,\"ticks\":\"\"}}}],\"scattermapbox\":[{\"type\":\"scattermapbox\",\"marker\":{\"colorbar\":{\"outlinewidth\":0,\"ticks\":\"\"}}}],\"scatterternary\":[{\"type\":\"scatterternary\",\"marker\":{\"colorbar\":{\"outlinewidth\":0,\"ticks\":\"\"}}}],\"scattercarpet\":[{\"type\":\"scattercarpet\",\"marker\":{\"colorbar\":{\"outlinewidth\":0,\"ticks\":\"\"}}}],\"carpet\":[{\"aaxis\":{\"endlinecolor\":\"#2a3f5f\",\"gridcolor\":\"white\",\"linecolor\":\"white\",\"minorgridcolor\":\"white\",\"startlinecolor\":\"#2a3f5f\"},\"baxis\":{\"endlinecolor\":\"#2a3f5f\",\"gridcolor\":\"white\",\"linecolor\":\"white\",\"minorgridcolor\":\"white\",\"startlinecolor\":\"#2a3f5f\"},\"type\":\"carpet\"}],\"table\":[{\"cells\":{\"fill\":{\"color\":\"#EBF0F8\"},\"line\":{\"color\":\"white\"}},\"header\":{\"fill\":{\"color\":\"#C8D4E3\"},\"line\":{\"color\":\"white\"}},\"type\":\"table\"}],\"barpolar\":[{\"marker\":{\"line\":{\"color\":\"#E5ECF6\",\"width\":0.5},\"pattern\":{\"fillmode\":\"overlay\",\"size\":10,\"solidity\":0.2}},\"type\":\"barpolar\"}],\"pie\":[{\"automargin\":true,\"type\":\"pie\"}]},\"layout\":{\"autotypenumbers\":\"strict\",\"colorway\":[\"#636efa\",\"#EF553B\",\"#00cc96\",\"#ab63fa\",\"#FFA15A\",\"#19d3f3\",\"#FF6692\",\"#B6E880\",\"#FF97FF\",\"#FECB52\"],\"font\":{\"color\":\"#2a3f5f\"},\"hovermode\":\"closest\",\"hoverlabel\":{\"align\":\"left\"},\"paper_bgcolor\":\"white\",\"plot_bgcolor\":\"#E5ECF6\",\"polar\":{\"bgcolor\":\"#E5ECF6\",\"angularaxis\":{\"gridcolor\":\"white\",\"linecolor\":\"white\",\"ticks\":\"\"},\"radialaxis\":{\"gridcolor\":\"white\",\"linecolor\":\"white\",\"ticks\":\"\"}},\"ternary\":{\"bgcolor\":\"#E5ECF6\",\"aaxis\":{\"gridcolor\":\"white\",\"linecolor\":\"white\",\"ticks\":\"\"},\"baxis\":{\"gridcolor\":\"white\",\"linecolor\":\"white\",\"ticks\":\"\"},\"caxis\":{\"gridcolor\":\"white\",\"linecolor\":\"white\",\"ticks\":\"\"}},\"coloraxis\":{\"colorbar\":{\"outlinewidth\":0,\"ticks\":\"\"}},\"colorscale\":{\"sequential\":[[0.0,\"#0d0887\"],[0.1111111111111111,\"#46039f\"],[0.2222222222222222,\"#7201a8\"],[0.3333333333333333,\"#9c179e\"],[0.4444444444444444,\"#bd3786\"],[0.5555555555555556,\"#d8576b\"],[0.6666666666666666,\"#ed7953\"],[0.7777777777777778,\"#fb9f3a\"],[0.8888888888888888,\"#fdca26\"],[1.0,\"#f0f921\"]],\"sequentialminus\":[[0.0,\"#0d0887\"],[0.1111111111111111,\"#46039f\"],[0.2222222222222222,\"#7201a8\"],[0.3333333333333333,\"#9c179e\"],[0.4444444444444444,\"#bd3786\"],[0.5555555555555556,\"#d8576b\"],[0.6666666666666666,\"#ed7953\"],[0.7777777777777778,\"#fb9f3a\"],[0.8888888888888888,\"#fdca26\"],[1.0,\"#f0f921\"]],\"diverging\":[[0,\"#8e0152\"],[0.1,\"#c51b7d\"],[0.2,\"#de77ae\"],[0.3,\"#f1b6da\"],[0.4,\"#fde0ef\"],[0.5,\"#f7f7f7\"],[0.6,\"#e6f5d0\"],[0.7,\"#b8e186\"],[0.8,\"#7fbc41\"],[0.9,\"#4d9221\"],[1,\"#276419\"]]},\"xaxis\":{\"gridcolor\":\"white\",\"linecolor\":\"white\",\"ticks\":\"\",\"title\":{\"standoff\":15},\"zerolinecolor\":\"white\",\"automargin\":true,\"zerolinewidth\":2},\"yaxis\":{\"gridcolor\":\"white\",\"linecolor\":\"white\",\"ticks\":\"\",\"title\":{\"standoff\":15},\"zerolinecolor\":\"white\",\"automargin\":true,\"zerolinewidth\":2},\"scene\":{\"xaxis\":{\"backgroundcolor\":\"#E5ECF6\",\"gridcolor\":\"white\",\"linecolor\":\"white\",\"showbackground\":true,\"ticks\":\"\",\"zerolinecolor\":\"white\",\"gridwidth\":2},\"yaxis\":{\"backgroundcolor\":\"#E5ECF6\",\"gridcolor\":\"white\",\"linecolor\":\"white\",\"showbackground\":true,\"ticks\":\"\",\"zerolinecolor\":\"white\",\"gridwidth\":2},\"zaxis\":{\"backgroundcolor\":\"#E5ECF6\",\"gridcolor\":\"white\",\"linecolor\":\"white\",\"showbackground\":true,\"ticks\":\"\",\"zerolinecolor\":\"white\",\"gridwidth\":2}},\"shapedefaults\":{\"line\":{\"color\":\"#2a3f5f\"}},\"annotationdefaults\":{\"arrowcolor\":\"#2a3f5f\",\"arrowhead\":0,\"arrowwidth\":1},\"geo\":{\"bgcolor\":\"white\",\"landcolor\":\"#E5ECF6\",\"subunitcolor\":\"white\",\"showland\":true,\"showlakes\":true,\"lakecolor\":\"white\"},\"title\":{\"x\":0.05},\"mapbox\":{\"style\":\"light\"}}},\"legend\":{\"tracegroupgap\":0},\"margin\":{\"t\":60}},                        {\"responsive\": true}                    ).then(function(){\n",
              "                            \n",
              "var gd = document.getElementById('a26cacd6-60ee-4b17-a6e6-15a792d4908a');\n",
              "var x = new MutationObserver(function (mutations, observer) {{\n",
              "        var display = window.getComputedStyle(gd).display;\n",
              "        if (!display || display === 'none') {{\n",
              "            console.log([gd, 'removed!']);\n",
              "            Plotly.purge(gd);\n",
              "            observer.disconnect();\n",
              "        }}\n",
              "}});\n",
              "\n",
              "// Listen for the removal of the full notebook cells\n",
              "var notebookContainer = gd.closest('#notebook-container');\n",
              "if (notebookContainer) {{\n",
              "    x.observe(notebookContainer, {childList: true});\n",
              "}}\n",
              "\n",
              "// Listen for the clearing of the current output cell\n",
              "var outputEl = gd.closest('.output');\n",
              "if (outputEl) {{\n",
              "    x.observe(outputEl, {childList: true});\n",
              "}}\n",
              "\n",
              "                        })                };                            </script>        </div>\n",
              "</body>\n",
              "</html>"
            ]
          },
          "metadata": {},
          "output_type": "display_data"
        }
      ],
      "source": [
        "grafico = px.parallel_categories(dadosGasDolar, dimensions=['Ano', 'Mes', 'Gasolina_PrecoMedio'])\n",
        "grafico.show()"
      ]
    },
    {
      "cell_type": "code",
      "execution_count": null,
      "metadata": {
        "colab": {
          "base_uri": "https://localhost:8080/"
        },
        "id": "I304pXS_mhwC",
        "outputId": "04b2c05b-3ddd-464b-da02-82f9cd51a673"
      },
      "outputs": [
        {
          "data": {
            "text/plain": [
              "Index(['Ano', 'Mes', 'Gasolina_PrecoMedio', 'Gasolina_DesvioPadrao',\n",
              "       'Gasolina_Min', 'Gasolina_Max', 'Valor_Dolar'],\n",
              "      dtype='object')"
            ]
          },
          "execution_count": 15,
          "metadata": {},
          "output_type": "execute_result"
        }
      ],
      "source": [
        "dadosGasDolar.columns"
      ]
    },
    {
      "cell_type": "code",
      "execution_count": null,
      "metadata": {
        "id": "_f-FC3D1movd"
      },
      "outputs": [],
      "source": [
        "X_dados = dadosGasDolar.iloc[:, 0:6].values"
      ]
    },
    {
      "cell_type": "code",
      "execution_count": null,
      "metadata": {
        "id": "1EnjVoDjm0m0",
        "colab": {
          "base_uri": "https://localhost:8080/"
        },
        "outputId": "9a57c95a-4b6e-43b6-89ad-ab4fdd813dfd"
      },
      "outputs": [
        {
          "output_type": "execute_result",
          "data": {
            "text/plain": [
              "array([[2017, 'Maio', 3.617, '0.252', '2.96', '4.999'],\n",
              "       [2017, 'Junho', 3.548, '0.269', '2.88', '4.799'],\n",
              "       [2017, 'Julho', 3.553, '0.304', '2.799', '4.95'],\n",
              "       [2017, 'Agosto', 3.781, '0.265', '2.999', '5.1'],\n",
              "       [2017, 'Agosto', 3.781, '0.265', '2.999', '5.1'],\n",
              "       [2017, 'Setembro', 3.881, '0.253', '3.099', '5.2'],\n",
              "       [2017, 'Setembro', 3.881, '0.253', '3.099', '5.2'],\n",
              "       [2017, 'Outubro', 3.895, '0.25', '3.199', '5.2'],\n",
              "       [2017, 'Novembro', 4.004, '0.261', '3.199', '5.2'],\n",
              "       [2017, 'Dezembro', 4.085, '0.256', '3.399', '5.2'],\n",
              "       [2018, 'Janeiro', 4.189, '0.268', '3.499', '5.15'],\n",
              "       [2018, 'Fevereiro', 4.208, '0.268', '3.479', '5.2'],\n",
              "       [2018, 'Marco', 4.199, '0.283', '3.479', '5.2'],\n",
              "       [2018, 'Abril', 4.215, '0.292', '3.397', '5.2'],\n",
              "       [2018, 'Maio', 4.314, '0.307', '3.369', '5.459'],\n",
              "       [2018, 'Junho', 4.552, '0.271', '3.599', '5.599'],\n",
              "       [2018, 'Julho', 4.492, '0.294', '3.649', '5.599'],\n",
              "       [2018, 'Agosto', 4.447, '0.302', '3.649', '5.99'],\n",
              "       [2018, 'Setembro', 4.625, '0.296', '3.69', '6.29'],\n",
              "       [2018, 'Outubro', 4.717, '0.278', '3.899', '6.29'],\n",
              "       [2018, 'Novembro', 4.59, '0.296', '3.749', '6.29'],\n",
              "       [2018, 'Novembro', 4.59, '0.296', '3.749', '6.29'],\n",
              "       [2018, 'Dezembro', 4.365, '0.307', '3.669', '6.29'],\n",
              "       [2019, 'Janeiro', 4.268, '0.314', '3.39', '6.29'],\n",
              "       [2019, 'Fevereiro', 4.19, '0.316', '3.397', '5.69'],\n",
              "       [2019, 'Marco', 4.305, '0.306', '3.499', '5.988'],\n",
              "       [2019, 'Abril', 4.437, '0.301', '3.599', '5.988'],\n",
              "       [2019, 'Maio', 4.552, '0.306', '3.699', '5.859'],\n",
              "       [2019, 'Junho', 4.468, '0.311', '3.679', '5.859'],\n",
              "       [2019, 'Julho', 4.351, '0.317', '3.569', '5.859'],\n",
              "       [2019, 'Agosto', 4.316, '0.308', '3.559', '5.799'],\n",
              "       [2019, 'Setembro', 4.326, '0.31', '3.559', '5.799'],\n",
              "       [2019, 'Outubro', 4.38, '0.303', '3.629', '5.799'],\n",
              "       [2019, 'Novembro', 4.413, '0.291', '3.649', '5.799'],\n",
              "       [2019, 'Dezembro', 4.531, '0.281', '3.699', '5.859'],\n",
              "       [2020, 'Janeiro', 4.579, '0.276', '3.799', '5.899'],\n",
              "       [2020, 'Fevereiro', 4.55, '0.274', '3.67', '5.899'],\n",
              "       [2020, 'Marco', 4.462, '0.294', '3.23', '5.889'],\n",
              "       [2020, 'Abril', 4.066, '0.341', '2.92', '5.889'],\n",
              "       [2020, 'Maio', 3.818, '0.314', '2.87', '5.69'],\n",
              "       [2020, 'Junho', 3.964, '0.301', '2.99', '5.69'],\n",
              "       [2020, 'Julho', 4.144, '0.294', '3.259', '5.69'],\n",
              "       [2020, 'Agosto', 4.237, '0.3', '3.37', '5.69'],\n",
              "       [2020, 'Setembro', 4.528, 'na', 'na', 'na'],\n",
              "       [2020, 'Outubro', 4.358, '0.308', '3.64', '5.199'],\n",
              "       [2020, 'Novembro', 4.409, '0.31', '3.59', '5.499'],\n",
              "       [2020, 'Dezembro', 4.483, '0.303', '3.65', '5.499'],\n",
              "       [2021, 'Janeiro', 4.622, '0.294', '3.099', '5.95'],\n",
              "       [2021, 'Fevereiro', 4.951, '0.346', '3.89', '6.35'],\n",
              "       [2021, 'Marco', 5.484, '0.358', '4.279', '6.7'],\n",
              "       [2021, 'Abril', 5.448, '0.353', '3.899', '6.89'],\n",
              "       [2021, 'Maio', 5.604, '0.341', '4.199', '6.997'],\n",
              "       [2021, 'Junho', 5.687, '0.331', '4.398', '6.89'],\n",
              "       [2021, 'Julho', 5.807, '0.354', '4.549', '6.999'],\n",
              "       [2021, 'Agosto', 5.933, '0.355', '4.599', '7.219'],\n",
              "       [2021, 'Setembro', 6.078, '0.349', '5.049', '7.236'],\n",
              "       [2021, 'Outubro', 6.341, '0.402', '4.69', '7.889'],\n",
              "       [2021, 'Novembro', 6.744, '0.372', '5.259', '7.999'],\n",
              "       [2021, 'Dezembro', 6.67, '0.364', '5.299', '7.962'],\n",
              "       [2022, 'Janeiro', 6.635, '0.368', '5.489', '8.029'],\n",
              "       [2022, 'Fevereiro', 6.6, '0.383', '5.579', '7.999'],\n",
              "       [2022, 'Marco', 7.012, '0.505', '5.19', '8.949'],\n",
              "       [2022, 'Abril', 7.245, '0.407', '6.099', '8.599'],\n",
              "       [2022, 'Maio', 7.297, '0.426', '6.199', '8.99']], dtype=object)"
            ]
          },
          "metadata": {},
          "execution_count": 16
        }
      ],
      "source": [
        "X_dados"
      ]
    },
    {
      "cell_type": "code",
      "source": [
        "X_dados[0]"
      ],
      "metadata": {
        "colab": {
          "base_uri": "https://localhost:8080/"
        },
        "id": "jqhIf42gRuD2",
        "outputId": "b32be741-2cbd-4e45-aac9-1ced4bfe6fed"
      },
      "execution_count": null,
      "outputs": [
        {
          "output_type": "execute_result",
          "data": {
            "text/plain": [
              "array([2017, 'Maio', 3.617, '0.252', '2.96', '4.999'], dtype=object)"
            ]
          },
          "metadata": {},
          "execution_count": 17
        }
      ]
    }
  ],
  "metadata": {
    "colab": {
      "collapsed_sections": [],
      "provenance": [],
      "toc_visible": true,
      "mount_file_id": "1qlmFqVY-OAeZbQJHcI0OXhlIYdd5QTuh",
      "authorship_tag": "ABX9TyNCA/ZSDqQr80r+YprSSwky",
      "include_colab_link": true
    },
    "kernelspec": {
      "display_name": "Python 3",
      "name": "python3"
    },
    "language_info": {
      "name": "python"
    }
  },
  "nbformat": 4,
  "nbformat_minor": 0
}